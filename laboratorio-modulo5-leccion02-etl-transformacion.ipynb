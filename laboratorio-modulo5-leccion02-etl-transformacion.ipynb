{
 "cells": [
  {
   "cell_type": "markdown",
   "metadata": {},
   "source": [
    "<div style=\"text-align: center;\">\n",
    "  <img src=\"https://github.com/Hack-io-Data/Imagenes/blob/main/01-LogosHackio/logo_amarillo@4x.png?raw=true\" alt=\"esquema\" />\n",
    "</div>"
   ]
  },
  {
   "cell_type": "markdown",
   "metadata": {},
   "source": [
    "\n",
    "# Laboratorio ETL: Análisis del Sistema Energético en España\n",
    "\n",
    "## Objetivo\n",
    "\n",
    "Durante todos los laboratorios de esta semana realizarás un proceso completo de ETL para analizar la relación entre la demanda, el consumo y la generación eléctrica en diferentes provincias de España a lo largo de un año. Además, complementarán este análisis con datos demográficos y económicos extraídos del Instituto Nacional de Estadística (INE). El **objetivo principal** del análisis es **examinar cómo la demanda, el consumo y la generación eléctrica en diferentes provincias de España a lo largo de los años están influenciados por factores demográficos y económicos, como la población y el PIB provincial**. El análisis busca identificar patrones y correlaciones entre estas variables para comprender mejor las dinámicas energéticas regionales y su relación con el desarrollo socioeconómico en España.\n",
    "\n",
    "Antes de realizar el análisis, vamos a definir las hipótesis con las que vamos a trabajar, las cuales definirán todo tu análisis y planteamiento de los laboratorios: \n",
    "\n",
    "- **Hipótesis 1: La demanda eléctrica está correlacionada con la población de la provincia.** Provincias con mayor población tienden a tener una mayor demanda eléctrica.\n",
    "  \n",
    "- **Hipótesis 2: El crecimiento económico (medido por el PIB) está correlacionado con el consumo eléctrico.** Las provincias con un PIB más alto o en crecimiento experimentan un mayor consumo de energía.\n",
    "\n",
    "- **Hipótesis 3: La proporción de generación renovable está relacionada con factores económicos o geográficos.** Provincias con un mayor desarrollo económico o con condiciones geográficas favorables (como más horas de sol o viento) tienden a generar más energía renovable.\n",
    "\n",
    "\n",
    "## Tareas Laboratorio Transformación\n",
    "\n",
    "En este laboratorio, tu objetivo será limpiar y preparar los datos extraídos previamente de diferentes fuentes para su posterior análisis. Trabajarás con datos provenientes de la API de Red Eléctrica Española (REE) y del Instituto Nacional de Estadística (INE). Estos datos incluyen información sobre demanda y generación eléctrica a nivel provincial, así como datos demográficos y económicos. \n",
    "\n",
    "\n",
    "- Cargar los Datos Extraídos:\n",
    "\n",
    "  - **Demanda Eléctrica:** Carga los datos de demanda eléctrica extraídos de la API de REE.\n",
    "\n",
    "  - **Generación Eléctrica:** Carga los datos de generación eléctrica diferenciados por tipo de energía (eólica, solar, hidroeléctrica, etc.) a nivel provincial.\n",
    "\n",
    "  - **Datos Demográficos:** Carga los datos demográficos por provincia extraídos de la web del INE.\n",
    "\n",
    "  - **Datos Económicos:** Carga los datos del PIB por provincia obtenidos del INE.\n",
    "\n",
    "\n",
    "-Limpieza de Datos:\n",
    "\n",
    "- Datos de la API de REE:\n",
    "\n",
    "  - **Demanda Eléctrica:**\n",
    "\n",
    "    - **Conversión de Timestamps:** Asegúrate de que las fechas estén correctamente formateadas en `datetime`. Si es necesario, convierte los datos a un formato uniforme (por ejemplo, `YYYY-MM` para datos mensuales).\n",
    "\n",
    "    - **Tratamiento de Valores Nulos:** Identifica y maneja los valores nulos en caso de que los haya. Puedes optar por eliminar filas con valores faltantes.\n",
    "\n",
    "    - **Estandarización de Nombres de Provincias:** Verifica que los nombres de las provincias estén estandarizados y coincidan en todos los conjuntos de datos. Si hay inconsistencias, corrígelas.\n",
    "\n",
    "  - **Generación Eléctrica:**\n",
    "\n",
    "    - **Desagregación de Tecnologías:** Asegúrate de que los datos estén correctamente desglosados por tipo de energía. Revisa que los campos correspondientes a energía eólica, solar, hidroeléctrica, etc., estén bien identificados y sin errores.\n",
    "\n",
    "    - **Normalización de Unidades:** Verifica que las unidades de energía estén estandarizadas (por ejemplo, MWh). Realiza las conversiones necesarias si se encuentran en otras unidades.\n",
    "\n",
    "    - **Identificación de Outliers:** Revisa los valores extremos o atípicos en la generación de energía y decide si deben ser tratados o eliminados.\n",
    "\n",
    "- Datos del INE:\n",
    "\n",
    "  - **Datos Demográficos:**\n",
    "\n",
    "    - **Consistencia en la Codificación de Provincias:** Asegúrate de que los nombres de las provincias en los datos demográficos coincidan con los nombres utilizados en los datos eléctricos.\n",
    "\n",
    "    - **Revisión de Categorías:** Verifica que las categorías de edad, sexo, y nacionalidad estén correctamente etiquetadas y sean consistentes en todo el dataset.\n",
    "\n",
    "    - **Manejo de Valores Faltantes:** Revisa la presencia de valores faltantes y decide cómo tratarlos (relleno, eliminación o sustitución).\n",
    "\n",
    "  - **Datos Económicos:**\n",
    "\n",
    "    - **Normalización del PIB:** Si los datos del PIB están en diferentes unidades o escalas, asegúrate de normalizarlos para que sean comparables entre provincias.\n",
    "\n",
    "    - **Agrupación Temporal:** Si los datos económicos están disponibles en diferentes periodos temporales, agrúpalos y normalízalos para que coincidan con los datos eléctricos en términos de granularidad temporal (mensual o anual).\n",
    "\n",
    "NOTA: Ten en cuenta que los datos los vamos a tener que insertar en una base de datos mañana, por lo que toda esta limpieza os recomendamos que la penséis para poder crear e insertar los datos mañana. "
   ]
  },
  {
   "cell_type": "code",
   "execution_count": 16,
   "metadata": {},
   "outputs": [],
   "source": [
    "import pandas as pd\n",
    "import numpy as np\n",
    "import json\n",
    "import os\n",
    "\n",
    "import warnings\n",
    "warnings.filterwarnings('ignore')"
   ]
  },
  {
   "cell_type": "code",
   "execution_count": 17,
   "metadata": {},
   "outputs": [],
   "source": [
    "lista_anios = [2019,2020,2021]\n",
    "\n",
    "cod_comunidades = {'Melilla': 8745,\n",
    "                    'Andalucía': 4,\n",
    "                    'Aragón': 5,\n",
    "                    'Cantabria': 6,\n",
    "                    'Castilla - La Mancha': 7,\n",
    "                    'Castilla y León': 8,\n",
    "                    'Cataluña': 9,\n",
    "                    'País Vasco': 10,\n",
    "                    'Principado de Asturias': 11,\n",
    "                    'Comunidad de Madrid': 13,\n",
    "                    'Comunidad Foral de Navarra': 14,\n",
    "                    'Comunitat Valenciana': 15,\n",
    "                    'Extremadura': 16,\n",
    "                    'Galicia': 17,\n",
    "                    'Illes Balears': 8743,\n",
    "                    'Canarias': 8742,\n",
    "                    'Región de Murcia': 21,\n",
    "                    'La Rioja': 20,\n",
    "                    'Ceuta': 8744}"
   ]
  },
  {
   "cell_type": "code",
   "execution_count": 18,
   "metadata": {},
   "outputs": [],
   "source": [
    "os.makedirs(\"datos/DataFrameFinales\", exist_ok=True)"
   ]
  },
  {
   "cell_type": "markdown",
   "metadata": {},
   "source": [
    "### Creación del dataframe de las comunidades autónomas"
   ]
  },
  {
   "cell_type": "code",
   "execution_count": 19,
   "metadata": {},
   "outputs": [],
   "source": [
    "df_comunidades = pd.DataFrame.from_dict(cod_comunidades, orient='index')\n",
    "df_comunidades.reset_index(inplace=True)\n",
    "df_comunidades.columns=[\"nombre\", \"id_ccaa\"]\n",
    "df_comunidades = df_comunidades.reindex(columns=[\"id_ccaa\", \"nombre\"])\n",
    "df_comunidades.to_csv(\"datos/DataFrameFinales/df_comunidades.csv\")"
   ]
  },
  {
   "cell_type": "markdown",
   "metadata": {},
   "source": [
    "### Obtención y limpieza de tablas de demanda"
   ]
  },
  {
   "cell_type": "code",
   "execution_count": 20,
   "metadata": {},
   "outputs": [],
   "source": [
    "df_demanda= pd.DataFrame()\n",
    "\n",
    "for anio in lista_anios:\n",
    "    df_anio = pd.DataFrame()\n",
    "    for ccaa, id in cod_comunidades.items():\n",
    "        try:\n",
    "            with open(f\"datos/evolucion/{anio}/{ccaa}.json\") as f:\n",
    "                data = json.load(f)\n",
    "\n",
    "            included = data['included']\n",
    "            values = included[0]['attributes']['values']\n",
    "\n",
    "            df = pd.DataFrame(values)\n",
    "            df[\"anio\"] = anio\n",
    "            df[\"ccaa\"] = ccaa\n",
    "            df_anio = pd.concat([df_anio, df])\n",
    "            \n",
    "        except:\n",
    "            print(f\"Ha fallado en el año {anio} y ccaa: {ccaa}\")\n",
    "            pass\n",
    "\n",
    "    df_anio.to_csv(f\"datos/evolucion/{anio}/df_final_{anio}.csv\")\n",
    "\n",
    "    df_demanda= pd.concat([df_demanda, df_anio])\n",
    "\n",
    "df_demanda.to_csv(\"datos/evolucion/df_demanda_concatenado.csv\")\n"
   ]
  },
  {
   "cell_type": "markdown",
   "metadata": {},
   "source": [
    "Una vez tenemos el dataframe llevamos a cabo una limpieza más profunda:"
   ]
  },
  {
   "cell_type": "code",
   "execution_count": 21,
   "metadata": {},
   "outputs": [
    {
     "data": {
      "text/html": [
       "<div>\n",
       "<style scoped>\n",
       "    .dataframe tbody tr th:only-of-type {\n",
       "        vertical-align: middle;\n",
       "    }\n",
       "\n",
       "    .dataframe tbody tr th {\n",
       "        vertical-align: top;\n",
       "    }\n",
       "\n",
       "    .dataframe thead th {\n",
       "        text-align: right;\n",
       "    }\n",
       "</style>\n",
       "<table border=\"1\" class=\"dataframe\">\n",
       "  <thead>\n",
       "    <tr style=\"text-align: right;\">\n",
       "      <th></th>\n",
       "      <th>value</th>\n",
       "      <th>percentage</th>\n",
       "      <th>datetime</th>\n",
       "      <th>anio</th>\n",
       "      <th>ccaa</th>\n",
       "    </tr>\n",
       "  </thead>\n",
       "  <tbody>\n",
       "    <tr>\n",
       "      <th>0</th>\n",
       "      <td>18530.186</td>\n",
       "      <td>1</td>\n",
       "      <td>2019-01-01T00:00:00.000+01:00</td>\n",
       "      <td>2019</td>\n",
       "      <td>Melilla</td>\n",
       "    </tr>\n",
       "  </tbody>\n",
       "</table>\n",
       "</div>"
      ],
      "text/plain": [
       "       value  percentage                       datetime  anio     ccaa\n",
       "0  18530.186           1  2019-01-01T00:00:00.000+01:00  2019  Melilla"
      ]
     },
     "execution_count": 21,
     "metadata": {},
     "output_type": "execute_result"
    }
   ],
   "source": [
    "df_demanda = pd.read_csv(\"datos/evolucion/df_demanda_concatenado.csv\", index_col=0)\n",
    "df_demanda.head(1)"
   ]
  },
  {
   "cell_type": "code",
   "execution_count": 22,
   "metadata": {},
   "outputs": [],
   "source": [
    "def obtener_mes(df, col_fecha):\n",
    "    meses_dic = {\n",
    "        \"January\": \"Enero\",\n",
    "        \"February\": \"Febrero\",\n",
    "        \"March\": \"Marzo\",\n",
    "        \"April\": \"Abril\",\n",
    "        \"May\": \"Mayo\",\n",
    "        \"June\": \"Junio\",\n",
    "        \"July\": \"Julio\",\n",
    "        \"August\": \"Agosto\",\n",
    "        \"September\": \"Septiembre\",\n",
    "        \"October\": \"Octubre\",\n",
    "        \"November\": \"Noviembre\",\n",
    "        \"December\": \"Diciembre\"\n",
    "    }\n",
    "\n",
    "    df[col_fecha] = (pd.to_datetime(df[col_fecha].str.split(\"T\", expand=True).get(0))).dt.month_name()\n",
    "    df[col_fecha] = df[col_fecha].map(meses_dic)\n",
    "\n",
    "    return df"
   ]
  },
  {
   "cell_type": "code",
   "execution_count": 23,
   "metadata": {},
   "outputs": [
    {
     "data": {
      "text/html": [
       "<div>\n",
       "<style scoped>\n",
       "    .dataframe tbody tr th:only-of-type {\n",
       "        vertical-align: middle;\n",
       "    }\n",
       "\n",
       "    .dataframe tbody tr th {\n",
       "        vertical-align: top;\n",
       "    }\n",
       "\n",
       "    .dataframe thead th {\n",
       "        text-align: right;\n",
       "    }\n",
       "</style>\n",
       "<table border=\"1\" class=\"dataframe\">\n",
       "  <thead>\n",
       "    <tr style=\"text-align: right;\">\n",
       "      <th></th>\n",
       "      <th>value</th>\n",
       "      <th>percentage</th>\n",
       "      <th>datetime</th>\n",
       "      <th>anio</th>\n",
       "      <th>ccaa</th>\n",
       "    </tr>\n",
       "  </thead>\n",
       "  <tbody>\n",
       "    <tr>\n",
       "      <th>0</th>\n",
       "      <td>18530.186</td>\n",
       "      <td>1</td>\n",
       "      <td>Enero</td>\n",
       "      <td>2019</td>\n",
       "      <td>Melilla</td>\n",
       "    </tr>\n",
       "    <tr>\n",
       "      <th>1</th>\n",
       "      <td>15963.180</td>\n",
       "      <td>1</td>\n",
       "      <td>Febrero</td>\n",
       "      <td>2019</td>\n",
       "      <td>Melilla</td>\n",
       "    </tr>\n",
       "  </tbody>\n",
       "</table>\n",
       "</div>"
      ],
      "text/plain": [
       "       value  percentage datetime  anio     ccaa\n",
       "0  18530.186           1    Enero  2019  Melilla\n",
       "1  15963.180           1  Febrero  2019  Melilla"
      ]
     },
     "execution_count": 23,
     "metadata": {},
     "output_type": "execute_result"
    }
   ],
   "source": [
    "# Modificamos el datetime y nos quedamos solo con el mes\n",
    "df_demanda = obtener_mes(df_demanda, \"datetime\")\n",
    "df_demanda.head(2)"
   ]
  },
  {
   "cell_type": "code",
   "execution_count": 24,
   "metadata": {},
   "outputs": [],
   "source": [
    "def limpieza_basica(df):   \n",
    "    # Cambiamos la ccaa por su id\n",
    "    df = df.merge(df_comunidades, left_on=\"ccaa\", right_on=\"nombre\").drop(columns=[\"ccaa\", \"nombre\"])\n",
    "\n",
    "    # Renombramos las columnas\n",
    "    df.rename(columns={\"value\":\"valor\", \"datetime\":\"mes\"}, inplace=True)\n",
    "\n",
    "    return df"
   ]
  },
  {
   "cell_type": "code",
   "execution_count": 25,
   "metadata": {},
   "outputs": [
    {
     "data": {
      "text/html": [
       "<div>\n",
       "<style scoped>\n",
       "    .dataframe tbody tr th:only-of-type {\n",
       "        vertical-align: middle;\n",
       "    }\n",
       "\n",
       "    .dataframe tbody tr th {\n",
       "        vertical-align: top;\n",
       "    }\n",
       "\n",
       "    .dataframe thead th {\n",
       "        text-align: right;\n",
       "    }\n",
       "</style>\n",
       "<table border=\"1\" class=\"dataframe\">\n",
       "  <thead>\n",
       "    <tr style=\"text-align: right;\">\n",
       "      <th></th>\n",
       "      <th>id_ccaa</th>\n",
       "      <th>anio</th>\n",
       "      <th>mes</th>\n",
       "      <th>valor</th>\n",
       "    </tr>\n",
       "  </thead>\n",
       "  <tbody>\n",
       "    <tr>\n",
       "      <th>0</th>\n",
       "      <td>8745</td>\n",
       "      <td>2019</td>\n",
       "      <td>Enero</td>\n",
       "      <td>18530.186</td>\n",
       "    </tr>\n",
       "    <tr>\n",
       "      <th>1</th>\n",
       "      <td>8745</td>\n",
       "      <td>2019</td>\n",
       "      <td>Febrero</td>\n",
       "      <td>15963.180</td>\n",
       "    </tr>\n",
       "  </tbody>\n",
       "</table>\n",
       "</div>"
      ],
      "text/plain": [
       "   id_ccaa  anio      mes      valor\n",
       "0     8745  2019    Enero  18530.186\n",
       "1     8745  2019  Febrero  15963.180"
      ]
     },
     "execution_count": 25,
     "metadata": {},
     "output_type": "execute_result"
    }
   ],
   "source": [
    "df_demanda = limpieza_basica(df_demanda)\n",
    "\n",
    "# Eliminamos la columnas porcentaje\n",
    "df.drop(columns=\"percentage\", inplace=True)\n",
    "\n",
    "# Reordenamos las columnas\n",
    "df_demanda = df_demanda.reindex(columns=[\"id_ccaa\", \"anio\", \"mes\", \"valor\"])\n",
    "\n",
    "df_demanda.head(2)"
   ]
  },
  {
   "cell_type": "code",
   "execution_count": 26,
   "metadata": {},
   "outputs": [
    {
     "name": "stdout",
     "output_type": "stream",
     "text": [
      "id_ccaa    0\n",
      "anio       0\n",
      "mes        0\n",
      "valor      0\n",
      "dtype: int64\n",
      "Hay 0 duplicados\n"
     ]
    }
   ],
   "source": [
    "# Comprobamos que no haya nulos\n",
    "print(df_demanda.isna().sum())\n",
    "\n",
    "# Comprobamos que no haya duplicados\n",
    "print(f\"Hay {df_demanda.duplicated().sum()} duplicados\")"
   ]
  },
  {
   "cell_type": "markdown",
   "metadata": {},
   "source": [
    "Una vez limpio lo guardamos en la carpeta de los dataframe finales:"
   ]
  },
  {
   "cell_type": "code",
   "execution_count": 27,
   "metadata": {},
   "outputs": [],
   "source": [
    "df_demanda.to_csv(\"datos/DataFrameFinales/df_demanda.csv\")"
   ]
  },
  {
   "cell_type": "markdown",
   "metadata": {},
   "source": [
    "### Obtención y limpieza de tablas de generación electrica"
   ]
  },
  {
   "cell_type": "code",
   "execution_count": 28,
   "metadata": {},
   "outputs": [
    {
     "name": "stdout",
     "output_type": "stream",
     "text": [
      "Ha fallado en el año 2019 y ccaa: Ceuta\n",
      "Ha fallado en el año 2020 y ccaa: Ceuta\n",
      "Ha fallado en el año 2021 y ccaa: Ceuta\n"
     ]
    }
   ],
   "source": [
    "df_final= pd.DataFrame()\n",
    "\n",
    "for anio in lista_anios:\n",
    "    df_anio = pd.DataFrame()\n",
    "    for ccaa, id in cod_comunidades.items():\n",
    "        try:\n",
    "            with open(f\"datos/generacion/{anio}/{ccaa}.json\") as f:\n",
    "                data = json.load(f)\n",
    "\n",
    "            included = data['included']\n",
    "            for elem in included:\n",
    "                tipo_energia = elem[\"type\"]\n",
    "                valores = elem['attributes']['values']\n",
    "\n",
    "                df = pd.DataFrame(valores)\n",
    "                df[\"tipo\"] = tipo_energia\n",
    "                df[\"anio\"] = anio\n",
    "                df[\"ccaa\"] = ccaa\n",
    "                df_anio = pd.concat([df_anio, df])\n",
    "                \n",
    "\n",
    "        except:\n",
    "            print(f\"Ha fallado en el año {anio} y ccaa: {ccaa}\")\n",
    "            pass\n",
    "\n",
    "    df_anio.to_csv(f\"datos/generacion/{anio}/df_final_{anio}.csv\")\n",
    "\n",
    "    df_final= pd.concat([df_final, df_anio])\n",
    "\n",
    "df_final.to_csv(f\"datos/generacion/df_generacion_concatenado.csv\")"
   ]
  },
  {
   "cell_type": "markdown",
   "metadata": {},
   "source": [
    "Una vez tenemos el dataframe llevamos a cabo una limpieza más profunda:"
   ]
  },
  {
   "cell_type": "code",
   "execution_count": 29,
   "metadata": {},
   "outputs": [
    {
     "data": {
      "text/html": [
       "<div>\n",
       "<style scoped>\n",
       "    .dataframe tbody tr th:only-of-type {\n",
       "        vertical-align: middle;\n",
       "    }\n",
       "\n",
       "    .dataframe tbody tr th {\n",
       "        vertical-align: top;\n",
       "    }\n",
       "\n",
       "    .dataframe thead th {\n",
       "        text-align: right;\n",
       "    }\n",
       "</style>\n",
       "<table border=\"1\" class=\"dataframe\">\n",
       "  <thead>\n",
       "    <tr style=\"text-align: right;\">\n",
       "      <th></th>\n",
       "      <th>value</th>\n",
       "      <th>percentage</th>\n",
       "      <th>datetime</th>\n",
       "      <th>tipo</th>\n",
       "      <th>anio</th>\n",
       "      <th>ccaa</th>\n",
       "    </tr>\n",
       "  </thead>\n",
       "  <tbody>\n",
       "    <tr>\n",
       "      <th>0</th>\n",
       "      <td>5.053</td>\n",
       "      <td>0.009113</td>\n",
       "      <td>2019-01-01T00:00:00.000+01:00</td>\n",
       "      <td>Solar fotovoltaica</td>\n",
       "      <td>2019</td>\n",
       "      <td>Melilla</td>\n",
       "    </tr>\n",
       "  </tbody>\n",
       "</table>\n",
       "</div>"
      ],
      "text/plain": [
       "   value  percentage                       datetime                tipo  anio  \\\n",
       "0  5.053    0.009113  2019-01-01T00:00:00.000+01:00  Solar fotovoltaica  2019   \n",
       "\n",
       "      ccaa  \n",
       "0  Melilla  "
      ]
     },
     "execution_count": 29,
     "metadata": {},
     "output_type": "execute_result"
    }
   ],
   "source": [
    "df_generacion = pd.read_csv(\"datos/generacion/df_generacion_concatenado.csv\", index_col=0)\n",
    "df_generacion.head(1)"
   ]
  },
  {
   "cell_type": "code",
   "execution_count": 30,
   "metadata": {},
   "outputs": [
    {
     "data": {
      "text/html": [
       "<div>\n",
       "<style scoped>\n",
       "    .dataframe tbody tr th:only-of-type {\n",
       "        vertical-align: middle;\n",
       "    }\n",
       "\n",
       "    .dataframe tbody tr th {\n",
       "        vertical-align: top;\n",
       "    }\n",
       "\n",
       "    .dataframe thead th {\n",
       "        text-align: right;\n",
       "    }\n",
       "</style>\n",
       "<table border=\"1\" class=\"dataframe\">\n",
       "  <thead>\n",
       "    <tr style=\"text-align: right;\">\n",
       "      <th></th>\n",
       "      <th>valor</th>\n",
       "      <th>percentage</th>\n",
       "      <th>mes</th>\n",
       "      <th>tipo</th>\n",
       "      <th>anio</th>\n",
       "      <th>id_ccaa</th>\n",
       "    </tr>\n",
       "  </thead>\n",
       "  <tbody>\n",
       "    <tr>\n",
       "      <th>0</th>\n",
       "      <td>5.053</td>\n",
       "      <td>0.009113</td>\n",
       "      <td>Enero</td>\n",
       "      <td>Solar fotovoltaica</td>\n",
       "      <td>2019</td>\n",
       "      <td>8745</td>\n",
       "    </tr>\n",
       "    <tr>\n",
       "      <th>1</th>\n",
       "      <td>5.526</td>\n",
       "      <td>0.011159</td>\n",
       "      <td>Febrero</td>\n",
       "      <td>Solar fotovoltaica</td>\n",
       "      <td>2019</td>\n",
       "      <td>8745</td>\n",
       "    </tr>\n",
       "  </tbody>\n",
       "</table>\n",
       "</div>"
      ],
      "text/plain": [
       "   valor  percentage      mes                tipo  anio  id_ccaa\n",
       "0  5.053    0.009113    Enero  Solar fotovoltaica  2019     8745\n",
       "1  5.526    0.011159  Febrero  Solar fotovoltaica  2019     8745"
      ]
     },
     "execution_count": 30,
     "metadata": {},
     "output_type": "execute_result"
    }
   ],
   "source": [
    "# Modificamos el datetime y nos quedamos solo con el mes\n",
    "df_generacion = obtener_mes(df_generacion, \"datetime\")\n",
    "\n",
    "# Llevamos a cabo una limpieza básica\n",
    "df_generacion = limpieza_basica(df_generacion)\n",
    "df_generacion.head(2)\n"
   ]
  },
  {
   "cell_type": "markdown",
   "metadata": {},
   "source": [
    "Debemos eliminar también las filas cuyo valor en tipo es \"Generación renovable\" porque hace referencia al total de energías renovables."
   ]
  },
  {
   "cell_type": "code",
   "execution_count": 31,
   "metadata": {},
   "outputs": [],
   "source": [
    "df_generacion = df_generacion[df_generacion[\"tipo\"] != \"Generación renovable\"]"
   ]
  },
  {
   "cell_type": "markdown",
   "metadata": {},
   "source": [
    "Necesitamos generar un dataframe para los tipos de energía y su id para poder sustitur la energia por su id en nuestro df_generacion."
   ]
  },
  {
   "cell_type": "code",
   "execution_count": 32,
   "metadata": {},
   "outputs": [],
   "source": [
    "df_energia = pd.DataFrame(df_generacion[\"tipo\"].unique())\n",
    "\n",
    "df_energia.index += 1\n",
    "df_energia.reset_index(inplace=True)\n",
    "df_energia=df_energia.rename(columns={\"index\":\"id_energia\", 0:\"nombre\"})\n",
    "df_energia.to_csv(\"datos/DataFrameFinales/df_energia.csv\")"
   ]
  },
  {
   "cell_type": "markdown",
   "metadata": {},
   "source": [
    "Ahora ya podemos sustituir el tipo de energía por su id:"
   ]
  },
  {
   "cell_type": "code",
   "execution_count": 33,
   "metadata": {},
   "outputs": [
    {
     "data": {
      "text/html": [
       "<div>\n",
       "<style scoped>\n",
       "    .dataframe tbody tr th:only-of-type {\n",
       "        vertical-align: middle;\n",
       "    }\n",
       "\n",
       "    .dataframe tbody tr th {\n",
       "        vertical-align: top;\n",
       "    }\n",
       "\n",
       "    .dataframe thead th {\n",
       "        text-align: right;\n",
       "    }\n",
       "</style>\n",
       "<table border=\"1\" class=\"dataframe\">\n",
       "  <thead>\n",
       "    <tr style=\"text-align: right;\">\n",
       "      <th></th>\n",
       "      <th>id_ccaa</th>\n",
       "      <th>anio</th>\n",
       "      <th>mes</th>\n",
       "      <th>id_energia</th>\n",
       "      <th>porcentaje</th>\n",
       "      <th>valor</th>\n",
       "    </tr>\n",
       "  </thead>\n",
       "  <tbody>\n",
       "    <tr>\n",
       "      <th>0</th>\n",
       "      <td>8745</td>\n",
       "      <td>2019</td>\n",
       "      <td>Enero</td>\n",
       "      <td>1</td>\n",
       "      <td>0.009113</td>\n",
       "      <td>5.053</td>\n",
       "    </tr>\n",
       "    <tr>\n",
       "      <th>1</th>\n",
       "      <td>8745</td>\n",
       "      <td>2019</td>\n",
       "      <td>Febrero</td>\n",
       "      <td>1</td>\n",
       "      <td>0.011159</td>\n",
       "      <td>5.526</td>\n",
       "    </tr>\n",
       "  </tbody>\n",
       "</table>\n",
       "</div>"
      ],
      "text/plain": [
       "   id_ccaa  anio      mes  id_energia  porcentaje  valor\n",
       "0     8745  2019    Enero           1    0.009113  5.053\n",
       "1     8745  2019  Febrero           1    0.011159  5.526"
      ]
     },
     "execution_count": 33,
     "metadata": {},
     "output_type": "execute_result"
    }
   ],
   "source": [
    "# Sustituimos las energías por su índice\n",
    "df_generacion = df_generacion.merge(df_energia, left_on=\"tipo\", right_on=\"nombre\").drop(columns=[\"tipo\", \"nombre\"])\n",
    "\n",
    "# Reordenamos las columnas\n",
    "df_generacion = df_generacion.reindex(columns=[\"id_ccaa\", \"anio\", \"mes\", \"id_energia\", \"percentage\", \"valor\"])\n",
    "df_generacion.rename(columns={\"percentage\":\"porcentaje\"}, inplace=True)\n",
    "df_generacion.head(2)"
   ]
  },
  {
   "cell_type": "markdown",
   "metadata": {},
   "source": [
    "Definimos una función para comprobar que el campo de porcetaje para cada comunidad autónoma por año y mes cumpla el 100% entres sus diferentes energias renovables:"
   ]
  },
  {
   "cell_type": "code",
   "execution_count": 34,
   "metadata": {},
   "outputs": [],
   "source": [
    "def check_porcentaje(df_generacion):\n",
    "    lista_meses = [\"Enero\", \"Febrero\", \"Marzo\", \"Abril\", \"Mayo\", \"Junio\", \"Julio\", \"Agosto\", \"Septiembre\", \"Octubre\", \"Noviembre\", \"Diciembre\"]\n",
    "    lista_ccaa = list(df_generacion[\"id_ccaa\"].unique())\n",
    "    lista_anios = list(df_generacion[\"anio\"].unique())\n",
    "\n",
    "    for anio in lista_anios:\n",
    "        for id_ccaa in lista_ccaa:\n",
    "            for mes in lista_meses:\n",
    "                df_ccaa_mes = df_generacion[(df_generacion[\"anio\"] == anio) & (df_generacion[\"id_ccaa\"] == id_ccaa) & (df_generacion[\"mes\"] == mes)]\n",
    "                df_ccaa_mes[\"total\"]=df_ccaa_mes[\"valor\"].sum()\n",
    "                df_ccaa_mes\n",
    "                for index, row in df_ccaa_mes.iterrows():\n",
    "                    perc=round(row[\"valor\"]/row[\"total\"],6)\n",
    "                    comprobacion = perc==round(row[\"porcentaje\"],6)\n",
    "                    if comprobacion == False:\n",
    "                        id_energia = row[\"id_energia\"]\n",
    "                        print(f\"El porcentaje esta mal para {id_ccaa}, {anio}, {mes}, {id_energia}\")\n",
    "                        df_generacion.loc[index, \"porcentaje\"] = perc\n"
   ]
  },
  {
   "cell_type": "code",
   "execution_count": 35,
   "metadata": {},
   "outputs": [
    {
     "name": "stdout",
     "output_type": "stream",
     "text": [
      "El porcentaje esta mal para 8745, 2021, Diciembre, 1\n",
      "El porcentaje esta mal para 8745, 2021, Diciembre, 2\n"
     ]
    }
   ],
   "source": [
    "check_porcentaje(df_generacion)"
   ]
  },
  {
   "cell_type": "code",
   "execution_count": 36,
   "metadata": {},
   "outputs": [
    {
     "name": "stdout",
     "output_type": "stream",
     "text": [
      "id_ccaa       0\n",
      "anio          0\n",
      "mes           0\n",
      "id_energia    0\n",
      "porcentaje    0\n",
      "valor         0\n",
      "dtype: int64\n",
      "Hay 0 duplicados\n"
     ]
    }
   ],
   "source": [
    "# Comprobamos que no haya nulos\n",
    "print(df_generacion.isna().sum())\n",
    "\n",
    "# Comprobamos que no haya duplicados\n",
    "print(f\"Hay {df_generacion.duplicated().sum()} duplicados\")"
   ]
  },
  {
   "cell_type": "markdown",
   "metadata": {},
   "source": [
    "Finalmente lo almacenamos en nuestra carpeta de dataframes limpios."
   ]
  },
  {
   "cell_type": "code",
   "execution_count": 37,
   "metadata": {},
   "outputs": [],
   "source": [
    "df_generacion.to_csv(\"datos/DataFrameFinales/df_generacion.csv\")"
   ]
  },
  {
   "cell_type": "markdown",
   "metadata": {},
   "source": [
    "# Datos del INE"
   ]
  },
  {
   "cell_type": "markdown",
   "metadata": {},
   "source": [
    "## Tabla de población"
   ]
  },
  {
   "cell_type": "code",
   "execution_count": 148,
   "metadata": {},
   "outputs": [],
   "source": [
    "df = pd.read_csv(\"datos/DatosDescargados/ine_poblacion.csv\", sep=\";\", encoding='latin-1')"
   ]
  },
  {
   "cell_type": "markdown",
   "metadata": {},
   "source": [
    "Procedemos a limpiar el dataframe:"
   ]
  },
  {
   "cell_type": "code",
   "execution_count": 149,
   "metadata": {},
   "outputs": [],
   "source": [
    "def limpieza_provincias(df_filtrado):\n",
    "\n",
    "    # Vamos a limpiar la columna provincia para quitar el id:\n",
    "    df_filtrado[\"Provincias\"]=df_filtrado[\"Provincias\"].apply(lambda x: x.split()[1])\n",
    "\n",
    "    reemplazos = {\"Balears,\": \"Baleares\", \"Palmas,\": \"Las Palmas\", \"Coruña,\": \"A Coruña\", \"Ciudad\":\"Ciudad Real\", \"Rioja,\":\"La Rioja\", \"Santa\": \"Santa Cruz de Tenerife\"}\n",
    "    df_filtrado[\"Provincias\"] = df_filtrado[\"Provincias\"].replace(reemplazos)\n",
    "\n",
    "    df_filtrado[\"Provincias\"]=df_filtrado[\"Provincias\"].apply(lambda x: x.split(\"/\")[0])\n",
    "\n",
    "    return df_filtrado\n"
   ]
  },
  {
   "cell_type": "code",
   "execution_count": 150,
   "metadata": {},
   "outputs": [],
   "source": [
    "# Quitamos las filas que no aportan valor\n",
    "df_poblacion = df[(df['Provincias'] != 'TOTAL ESPAÑA') & (df['Edad (3 grupos de edad)'] != 'TOTAL EDADES') & (df['Españoles/Extranjeros'] != 'TOTAL') & (df['Españoles/Extranjeros'] != '% Extranjeros') & (df['Sexo'] != 'Ambos sexos')]\n",
    "\n",
    "df_filtrado = limpieza_provincias(df_poblacion)"
   ]
  },
  {
   "cell_type": "code",
   "execution_count": 151,
   "metadata": {},
   "outputs": [
    {
     "data": {
      "text/plain": [
       "(1872, 6)"
      ]
     },
     "execution_count": 151,
     "metadata": {},
     "output_type": "execute_result"
    }
   ],
   "source": [
    "df_filtrado.shape"
   ]
  },
  {
   "cell_type": "markdown",
   "metadata": {},
   "source": [
    "Para el grupo de edades los vamos a categorizar en tres grupos y reemplzar los valores de dicha columna usando el diccionario dic_edades:"
   ]
  },
  {
   "cell_type": "code",
   "execution_count": 152,
   "metadata": {},
   "outputs": [],
   "source": [
    "dic_edades={\"0-15 años\": \"jovenes\", \"16-64 años\": \"adultos\", \"65 y más\":\"mayores\"}\n",
    "df_filtrado[\"Edad (3 grupos de edad)\"]=df_filtrado[\"Edad (3 grupos de edad)\"].map(dic_edades)"
   ]
  },
  {
   "cell_type": "markdown",
   "metadata": {},
   "source": [
    "Para cada provincia vamos a sacar el codigo de su ccaa:"
   ]
  },
  {
   "cell_type": "code",
   "execution_count": 153,
   "metadata": {},
   "outputs": [],
   "source": [
    "dic_provincias = {\n",
    "    \"Andalucía\": [\"Almería\", \"Cádiz\", \"Córdoba\", \"Granada\", \"Huelva\", \"Jaén\", \"Málaga\", \"Sevilla\"],\n",
    "    \"Aragón\": [\"Huesca\", \"Teruel\", \"Zaragoza\"],\n",
    "    \"Principado de Asturias\": [\"Oviedo\", \"Asturias\"],\n",
    "    \"Illes Balears\": [\"Baleares\"],\n",
    "    \"Canarias\": [\"Santa Cruz de Tenerife\", \"Las Palmas\"],\n",
    "    \"Cantabria\": [\"Santander\", \"Cantabria\"],\n",
    "    \"Castilla - La Mancha\": [\"Albacete\", \"Ciudad Real\", \"Cuenca\", \"Guadalajara\", \"Toledo\"],\n",
    "    \"Castilla y León\": [\"Ávila\", \"Burgos\", \"León\", \"Palencia\", \"Salamanca\", \"Segovia\", \"Soria\", \"Valladolid\", \"Zamora\"],\n",
    "    \"Cataluña\": [\"Barcelona\", \"Girona\", \"Lleida\", \"Tarragona\"],\n",
    "    \"Comunitat Valenciana\": [\"Alicante\", \"Castellón\", \"Valencia\"],\n",
    "    \"Extremadura\": [\"Badajoz\", \"Cáceres\"],\n",
    "    \"Galicia\": [\"A Coruña\", \"Lugo\", \"Ourense\", \"Pontevedra\"],\n",
    "    \"Comunidad de Madrid\": [\"Madrid\"],\n",
    "    \"Región de Murcia\": [\"Murcia\"],\n",
    "    \"Comunidad Foral de Navarra\": [\"Pamplona\", \"Navarra\"],\n",
    "    \"País Vasco\": [\"Araba\", \"Bizkaia\", \"Gipuzkoa\"],\n",
    "    \"La Rioja\": [\"Logroño\", \"La Rioja\"],\n",
    "    \"Melilla\":[\"Melilla\"],\n",
    "    \"Ceuta\":[\"Ceuta\"]\n",
    "\n",
    "}\n"
   ]
  },
  {
   "cell_type": "code",
   "execution_count": 154,
   "metadata": {},
   "outputs": [],
   "source": [
    "lista_provincias = list(df_filtrado[\"Provincias\"].unique())\n",
    "lista_final = []\n",
    "for provincia in lista_provincias:\n",
    "    flag=0\n",
    "    for comunidad, lista in dic_provincias.items():\n",
    "        if provincia in lista:\n",
    "            lista_final.append([provincia, comunidad])\n",
    "            flag=1\n",
    "            break\n",
    "    if flag==1:\n",
    "        continue\n",
    "    print(provincia)"
   ]
  },
  {
   "cell_type": "markdown",
   "metadata": {},
   "source": [
    "Creamos un dataframe para las provincias con su id y el de su ccaa."
   ]
  },
  {
   "cell_type": "code",
   "execution_count": 220,
   "metadata": {},
   "outputs": [],
   "source": [
    "df_provincias = pd.DataFrame(lista_final)\n",
    "df_provincias.index += 1\n",
    "df_provincias.reset_index(inplace=True)"
   ]
  },
  {
   "cell_type": "code",
   "execution_count": 221,
   "metadata": {},
   "outputs": [],
   "source": [
    "df_provincias.rename(columns={0:\"nombre\", 1:\"ccaa\", \"index\":\"id_provincia\"}, inplace=True)"
   ]
  },
  {
   "cell_type": "code",
   "execution_count": 222,
   "metadata": {},
   "outputs": [],
   "source": [
    "df_provincias_final = df_provincias.merge(how=\"left\", right =df_comunidades, left_on=\"ccaa\", right_on=\"nombre\").drop(columns=[\"ccaa\", \"nombre_y\"])\n",
    "df_provincias_final.rename(columns={\"nombre_x\":\"nombre\"}, inplace=True)"
   ]
  },
  {
   "cell_type": "code",
   "execution_count": 223,
   "metadata": {},
   "outputs": [],
   "source": [
    "df_provincias_final.to_csv(\"datos/DataFrameFinales/df_provincias.csv\")"
   ]
  },
  {
   "cell_type": "markdown",
   "metadata": {},
   "source": [
    "Ahora que ya tenemos el dataframe de provincias, sustitumos la provincia por su id y añadimos el id de ccaa."
   ]
  },
  {
   "cell_type": "code",
   "execution_count": 159,
   "metadata": {},
   "outputs": [
    {
     "data": {
      "text/html": [
       "<div>\n",
       "<style scoped>\n",
       "    .dataframe tbody tr th:only-of-type {\n",
       "        vertical-align: middle;\n",
       "    }\n",
       "\n",
       "    .dataframe tbody tr th {\n",
       "        vertical-align: top;\n",
       "    }\n",
       "\n",
       "    .dataframe thead th {\n",
       "        text-align: right;\n",
       "    }\n",
       "</style>\n",
       "<table border=\"1\" class=\"dataframe\">\n",
       "  <thead>\n",
       "    <tr style=\"text-align: right;\">\n",
       "      <th></th>\n",
       "      <th>id_provincia</th>\n",
       "      <th>nombre</th>\n",
       "    </tr>\n",
       "  </thead>\n",
       "  <tbody>\n",
       "    <tr>\n",
       "      <th>0</th>\n",
       "      <td>1</td>\n",
       "      <td>Albacete</td>\n",
       "    </tr>\n",
       "  </tbody>\n",
       "</table>\n",
       "</div>"
      ],
      "text/plain": [
       "   id_provincia    nombre\n",
       "0             1  Albacete"
      ]
     },
     "execution_count": 159,
     "metadata": {},
     "output_type": "execute_result"
    }
   ],
   "source": [
    "df_provincias = pd.read_csv(\"datos/DataFrameFinales/df_provincias.csv\", index_col=0)\n",
    "df_provincias.head(1)"
   ]
  },
  {
   "cell_type": "code",
   "execution_count": 160,
   "metadata": {},
   "outputs": [],
   "source": [
    "df_filtrado = df_filtrado.merge(how=\"left\", right =df_provincias, left_on=\"Provincias\", right_on=\"nombre\").drop(columns=[\"Provincias\", \"nombre\"])"
   ]
  },
  {
   "cell_type": "markdown",
   "metadata": {},
   "source": [
    "Ahora crearemos un dataframe para los grupos de edades y sustituremos el valor de la tabla por el id."
   ]
  },
  {
   "cell_type": "code",
   "execution_count": 161,
   "metadata": {},
   "outputs": [],
   "source": [
    "df_edades = pd.DataFrame(df_filtrado[\"Edad (3 grupos de edad)\"].unique())\n",
    "df_edades.index += 1\n",
    "df_edades.reset_index(inplace=True)\n",
    "df_edades.rename(columns={\"index\":\"id_edad\", 0:\"nombre\"}, inplace=True)\n",
    "\n",
    "df_edades.to_csv(\"datos/DataFrameFinales/df_edades.csv\")"
   ]
  },
  {
   "cell_type": "code",
   "execution_count": 162,
   "metadata": {},
   "outputs": [],
   "source": [
    "df_filtrado = df_filtrado.merge(how=\"left\", right =df_edades, left_on=\"Edad (3 grupos de edad)\", right_on=\"nombre\").drop(columns=[\"Edad (3 grupos de edad)\", \"nombre\"])"
   ]
  },
  {
   "cell_type": "markdown",
   "metadata": {},
   "source": [
    "Renombramos y ordenamos las columnas:"
   ]
  },
  {
   "cell_type": "code",
   "execution_count": 163,
   "metadata": {},
   "outputs": [],
   "source": [
    "df_filtrado[\"Total\"]=df_filtrado[\"Total\"].str.replace(\".\", \"\").astype(int)\n",
    "df_filtrado = df_filtrado.reindex(columns=['id_provincia', 'id_edad', 'Españoles/Extranjeros', 'Sexo', 'Año', 'Total'])"
   ]
  },
  {
   "cell_type": "code",
   "execution_count": 164,
   "metadata": {},
   "outputs": [
    {
     "name": "stdout",
     "output_type": "stream",
     "text": [
      "id_provincia             0\n",
      "id_edad                  0\n",
      "Españoles/Extranjeros    0\n",
      "Sexo                     0\n",
      "Año                      0\n",
      "Total                    0\n",
      "dtype: int64\n",
      "Hay 0 duplicados\n"
     ]
    }
   ],
   "source": [
    "# Comprobamos que no haya nulos\n",
    "print(df_filtrado.isna().sum())\n",
    "\n",
    "# Comprobamos que no haya duplicados\n",
    "print(f\"Hay {df_filtrado.duplicated().sum()} duplicados\")"
   ]
  },
  {
   "cell_type": "code",
   "execution_count": 165,
   "metadata": {},
   "outputs": [],
   "source": [
    "df_filtrado.to_csv(\"datos/DataFrameFinales/df_poblacion.csv\")"
   ]
  },
  {
   "cell_type": "markdown",
   "metadata": {},
   "source": [
    "## Tabla de PIB"
   ]
  },
  {
   "cell_type": "code",
   "execution_count": 181,
   "metadata": {},
   "outputs": [
    {
     "data": {
      "text/html": [
       "<div>\n",
       "<style scoped>\n",
       "    .dataframe tbody tr th:only-of-type {\n",
       "        vertical-align: middle;\n",
       "    }\n",
       "\n",
       "    .dataframe tbody tr th {\n",
       "        vertical-align: top;\n",
       "    }\n",
       "\n",
       "    .dataframe thead th {\n",
       "        text-align: right;\n",
       "    }\n",
       "</style>\n",
       "<table border=\"1\" class=\"dataframe\">\n",
       "  <thead>\n",
       "    <tr style=\"text-align: right;\">\n",
       "      <th></th>\n",
       "      <th>Provincias</th>\n",
       "      <th>Ramas de actividad</th>\n",
       "      <th>periodo</th>\n",
       "      <th>Total</th>\n",
       "    </tr>\n",
       "  </thead>\n",
       "  <tbody>\n",
       "    <tr>\n",
       "      <th>0</th>\n",
       "      <td>02 Albacete</td>\n",
       "      <td>PRODUCTO INTERIOR BRUTO A PRECIOS DE MERCADO</td>\n",
       "      <td>2021(P)</td>\n",
       "      <td>8.663.814</td>\n",
       "    </tr>\n",
       "    <tr>\n",
       "      <th>1</th>\n",
       "      <td>02 Albacete</td>\n",
       "      <td>PRODUCTO INTERIOR BRUTO A PRECIOS DE MERCADO</td>\n",
       "      <td>2020</td>\n",
       "      <td>7.855.556</td>\n",
       "    </tr>\n",
       "    <tr>\n",
       "      <th>2</th>\n",
       "      <td>02 Albacete</td>\n",
       "      <td>PRODUCTO INTERIOR BRUTO A PRECIOS DE MERCADO</td>\n",
       "      <td>2019</td>\n",
       "      <td>8.475.070</td>\n",
       "    </tr>\n",
       "    <tr>\n",
       "      <th>3</th>\n",
       "      <td>02 Albacete</td>\n",
       "      <td>A. Agricultura, ganadería, silvicultura y pesca</td>\n",
       "      <td>2021(P)</td>\n",
       "      <td>884.324</td>\n",
       "    </tr>\n",
       "    <tr>\n",
       "      <th>4</th>\n",
       "      <td>02 Albacete</td>\n",
       "      <td>A. Agricultura, ganadería, silvicultura y pesca</td>\n",
       "      <td>2020</td>\n",
       "      <td>768.976</td>\n",
       "    </tr>\n",
       "    <tr>\n",
       "      <th>...</th>\n",
       "      <td>...</td>\n",
       "      <td>...</td>\n",
       "      <td>...</td>\n",
       "      <td>...</td>\n",
       "    </tr>\n",
       "    <tr>\n",
       "      <th>1711</th>\n",
       "      <td>52 Melilla</td>\n",
       "      <td>Impuestos netos sobre los productos</td>\n",
       "      <td>2020</td>\n",
       "      <td>132.490</td>\n",
       "    </tr>\n",
       "    <tr>\n",
       "      <th>1712</th>\n",
       "      <td>52 Melilla</td>\n",
       "      <td>Impuestos netos sobre los productos</td>\n",
       "      <td>2019</td>\n",
       "      <td>151.213</td>\n",
       "    </tr>\n",
       "    <tr>\n",
       "      <th>1713</th>\n",
       "      <td>52 Melilla</td>\n",
       "      <td>PRODUCTO INTERIOR BRUTO A PRECIOS DE MERCADO</td>\n",
       "      <td>2021(P)</td>\n",
       "      <td>1.616.543</td>\n",
       "    </tr>\n",
       "    <tr>\n",
       "      <th>1714</th>\n",
       "      <td>52 Melilla</td>\n",
       "      <td>PRODUCTO INTERIOR BRUTO A PRECIOS DE MERCADO</td>\n",
       "      <td>2020</td>\n",
       "      <td>1.514.009</td>\n",
       "    </tr>\n",
       "    <tr>\n",
       "      <th>1715</th>\n",
       "      <td>52 Melilla</td>\n",
       "      <td>PRODUCTO INTERIOR BRUTO A PRECIOS DE MERCADO</td>\n",
       "      <td>2019</td>\n",
       "      <td>1.625.086</td>\n",
       "    </tr>\n",
       "  </tbody>\n",
       "</table>\n",
       "<p>1716 rows × 4 columns</p>\n",
       "</div>"
      ],
      "text/plain": [
       "       Provincias                               Ramas de actividad  periodo  \\\n",
       "0     02 Albacete     PRODUCTO INTERIOR BRUTO A PRECIOS DE MERCADO  2021(P)   \n",
       "1     02 Albacete     PRODUCTO INTERIOR BRUTO A PRECIOS DE MERCADO     2020   \n",
       "2     02 Albacete     PRODUCTO INTERIOR BRUTO A PRECIOS DE MERCADO     2019   \n",
       "3     02 Albacete  A. Agricultura, ganadería, silvicultura y pesca  2021(P)   \n",
       "4     02 Albacete  A. Agricultura, ganadería, silvicultura y pesca     2020   \n",
       "...           ...                                              ...      ...   \n",
       "1711   52 Melilla              Impuestos netos sobre los productos     2020   \n",
       "1712   52 Melilla              Impuestos netos sobre los productos     2019   \n",
       "1713   52 Melilla     PRODUCTO INTERIOR BRUTO A PRECIOS DE MERCADO  2021(P)   \n",
       "1714   52 Melilla     PRODUCTO INTERIOR BRUTO A PRECIOS DE MERCADO     2020   \n",
       "1715   52 Melilla     PRODUCTO INTERIOR BRUTO A PRECIOS DE MERCADO     2019   \n",
       "\n",
       "          Total  \n",
       "0     8.663.814  \n",
       "1     7.855.556  \n",
       "2     8.475.070  \n",
       "3       884.324  \n",
       "4       768.976  \n",
       "...         ...  \n",
       "1711    132.490  \n",
       "1712    151.213  \n",
       "1713  1.616.543  \n",
       "1714  1.514.009  \n",
       "1715  1.625.086  \n",
       "\n",
       "[1716 rows x 4 columns]"
      ]
     },
     "execution_count": 181,
     "metadata": {},
     "output_type": "execute_result"
    }
   ],
   "source": [
    "df_pib = pd.read_csv(\"datos/DatosDescargados/ine_pib.csv\", sep=\";\", encoding='latin-1')\n",
    "df_pib"
   ]
  },
  {
   "cell_type": "code",
   "execution_count": 182,
   "metadata": {},
   "outputs": [],
   "source": [
    "# Quitamos las filas que no aportan valor\n",
    "df_pib = df_pib[(df_pib['Ramas de actividad'] != 'PRODUCTO INTERIOR BRUTO A PRECIOS DE MERCADO') ]\n",
    "\n",
    "# Quitamos el id de las provincias\n",
    "df_filtrado = limpieza_provincias(df_pib)"
   ]
  },
  {
   "cell_type": "markdown",
   "metadata": {},
   "source": [
    "Cambiamos el formato de algunas columnas:"
   ]
  },
  {
   "cell_type": "code",
   "execution_count": 183,
   "metadata": {},
   "outputs": [],
   "source": [
    "df_filtrado[\"periodo\"]=df_filtrado[\"periodo\"].replace(\"2021(P)\", \"2021\")\n",
    "df_filtrado[\"Total\"]=df_filtrado[\"Total\"].str.replace(\".\", \"\").astype(int)"
   ]
  },
  {
   "cell_type": "markdown",
   "metadata": {},
   "source": [
    "Añadimos el id de provincia:"
   ]
  },
  {
   "cell_type": "code",
   "execution_count": 184,
   "metadata": {},
   "outputs": [],
   "source": [
    "df_provincias = pd.read_csv(\"datos/DataFrameFinales/df_provincias.csv\", index_col=0)\n",
    "df_filtrado = df_filtrado.merge(how=\"left\", right =df_provincias, left_on=\"Provincias\", right_on=\"nombre\").drop(columns=[\"Provincias\", \"nombre\"])"
   ]
  },
  {
   "cell_type": "markdown",
   "metadata": {},
   "source": [
    "Reordenamos columnas:"
   ]
  },
  {
   "cell_type": "code",
   "execution_count": 185,
   "metadata": {},
   "outputs": [],
   "source": [
    "df_filtrado = df_filtrado.reindex(columns=['id_provincia', 'Ramas de actividad', 'periodo', 'Total'])"
   ]
  },
  {
   "cell_type": "markdown",
   "metadata": {},
   "source": [
    "Vamos a extraer otro dataframe ya que en las ramas hay dos valores: Valor añadido bruto total y Impuestos netos sobre los productos, que al sumarlos nos dan el pib. Y las ramas son una parte del total del pib, por lo que nos conviene tenerlo en dos dataframes separados."
   ]
  },
  {
   "cell_type": "code",
   "execution_count": 197,
   "metadata": {},
   "outputs": [],
   "source": [
    "filtro_ramas = (df_filtrado[\"Ramas de actividad\"]==\"Valor añadido bruto total\") | (df_filtrado[\"Ramas de actividad\"]==\"Impuestos netos sobre los productos\")\n",
    "df_pib_total = df_filtrado[filtro_ramas]\n",
    "df_pib_total.to_csv(\"datos/DataFrameFinales/df_pib_total.csv\")"
   ]
  },
  {
   "cell_type": "code",
   "execution_count": 199,
   "metadata": {},
   "outputs": [],
   "source": [
    "df_pib_ramas = df_filtrado[~filtro_ramas]"
   ]
  },
  {
   "cell_type": "markdown",
   "metadata": {},
   "source": [
    "En el dataframe de pib_ramas vamos a crear un df de ramas y sustituir el valor en la tabla por su id"
   ]
  },
  {
   "cell_type": "code",
   "execution_count": 207,
   "metadata": {},
   "outputs": [],
   "source": [
    "df_ramas = pd.DataFrame(df_pib_ramas[\"Ramas de actividad\"].unique())\n",
    "df_ramas.index += 1\n",
    "df_ramas.reset_index(inplace=True)\n",
    "df_ramas.rename(columns={\"index\":\"id_rama\", 0:\"nombre\"}, inplace=True)\n",
    "df_ramas.to_csv(\"datos/DataFrameFinales/df_ramas.csv\")"
   ]
  },
  {
   "cell_type": "markdown",
   "metadata": {},
   "source": [
    "Vamos ahora a sutitir la rama por su id:"
   ]
  },
  {
   "cell_type": "code",
   "execution_count": 209,
   "metadata": {},
   "outputs": [],
   "source": [
    "df_pib_ramas = df_pib_ramas.merge(how=\"left\", right =df_ramas, left_on=\"Ramas de actividad\", right_on=\"nombre\").drop(columns=[\"Ramas de actividad\", \"nombre\"])"
   ]
  },
  {
   "cell_type": "code",
   "execution_count": 211,
   "metadata": {},
   "outputs": [],
   "source": [
    "df_pib_ramas=df_pib_ramas.reindex(columns=['id_provincia', 'id_rama', 'periodo', 'Total'])"
   ]
  },
  {
   "cell_type": "code",
   "execution_count": 212,
   "metadata": {},
   "outputs": [
    {
     "data": {
      "text/html": [
       "<div>\n",
       "<style scoped>\n",
       "    .dataframe tbody tr th:only-of-type {\n",
       "        vertical-align: middle;\n",
       "    }\n",
       "\n",
       "    .dataframe tbody tr th {\n",
       "        vertical-align: top;\n",
       "    }\n",
       "\n",
       "    .dataframe thead th {\n",
       "        text-align: right;\n",
       "    }\n",
       "</style>\n",
       "<table border=\"1\" class=\"dataframe\">\n",
       "  <thead>\n",
       "    <tr style=\"text-align: right;\">\n",
       "      <th></th>\n",
       "      <th>id_provincia</th>\n",
       "      <th>id_rama</th>\n",
       "      <th>periodo</th>\n",
       "      <th>Total</th>\n",
       "    </tr>\n",
       "  </thead>\n",
       "  <tbody>\n",
       "    <tr>\n",
       "      <th>0</th>\n",
       "      <td>1</td>\n",
       "      <td>1</td>\n",
       "      <td>2021</td>\n",
       "      <td>884324</td>\n",
       "    </tr>\n",
       "    <tr>\n",
       "      <th>1</th>\n",
       "      <td>1</td>\n",
       "      <td>1</td>\n",
       "      <td>2020</td>\n",
       "      <td>768976</td>\n",
       "    </tr>\n",
       "    <tr>\n",
       "      <th>2</th>\n",
       "      <td>1</td>\n",
       "      <td>1</td>\n",
       "      <td>2019</td>\n",
       "      <td>791464</td>\n",
       "    </tr>\n",
       "    <tr>\n",
       "      <th>3</th>\n",
       "      <td>1</td>\n",
       "      <td>2</td>\n",
       "      <td>2021</td>\n",
       "      <td>1397006</td>\n",
       "    </tr>\n",
       "    <tr>\n",
       "      <th>4</th>\n",
       "      <td>1</td>\n",
       "      <td>2</td>\n",
       "      <td>2020</td>\n",
       "      <td>1194438</td>\n",
       "    </tr>\n",
       "    <tr>\n",
       "      <th>...</th>\n",
       "      <td>...</td>\n",
       "      <td>...</td>\n",
       "      <td>...</td>\n",
       "      <td>...</td>\n",
       "    </tr>\n",
       "    <tr>\n",
       "      <th>1087</th>\n",
       "      <td>52</td>\n",
       "      <td>6</td>\n",
       "      <td>2020</td>\n",
       "      <td>254596</td>\n",
       "    </tr>\n",
       "    <tr>\n",
       "      <th>1088</th>\n",
       "      <td>52</td>\n",
       "      <td>6</td>\n",
       "      <td>2019</td>\n",
       "      <td>258800</td>\n",
       "    </tr>\n",
       "    <tr>\n",
       "      <th>1089</th>\n",
       "      <td>52</td>\n",
       "      <td>7</td>\n",
       "      <td>2021</td>\n",
       "      <td>783628</td>\n",
       "    </tr>\n",
       "    <tr>\n",
       "      <th>1090</th>\n",
       "      <td>52</td>\n",
       "      <td>7</td>\n",
       "      <td>2020</td>\n",
       "      <td>759737</td>\n",
       "    </tr>\n",
       "    <tr>\n",
       "      <th>1091</th>\n",
       "      <td>52</td>\n",
       "      <td>7</td>\n",
       "      <td>2019</td>\n",
       "      <td>770320</td>\n",
       "    </tr>\n",
       "  </tbody>\n",
       "</table>\n",
       "<p>1092 rows × 4 columns</p>\n",
       "</div>"
      ],
      "text/plain": [
       "      id_provincia  id_rama periodo    Total\n",
       "0                1        1    2021   884324\n",
       "1                1        1    2020   768976\n",
       "2                1        1    2019   791464\n",
       "3                1        2    2021  1397006\n",
       "4                1        2    2020  1194438\n",
       "...            ...      ...     ...      ...\n",
       "1087            52        6    2020   254596\n",
       "1088            52        6    2019   258800\n",
       "1089            52        7    2021   783628\n",
       "1090            52        7    2020   759737\n",
       "1091            52        7    2019   770320\n",
       "\n",
       "[1092 rows x 4 columns]"
      ]
     },
     "execution_count": 212,
     "metadata": {},
     "output_type": "execute_result"
    }
   ],
   "source": [
    "df_pib_ramas"
   ]
  },
  {
   "cell_type": "code",
   "execution_count": 213,
   "metadata": {},
   "outputs": [
    {
     "name": "stdout",
     "output_type": "stream",
     "text": [
      "id_provincia    0\n",
      "id_rama         0\n",
      "periodo         0\n",
      "Total           0\n",
      "dtype: int64\n",
      "Hay 0 duplicados\n"
     ]
    }
   ],
   "source": [
    "# Comprobamos que no haya nulos\n",
    "print(df_pib_ramas.isna().sum())\n",
    "\n",
    "# Comprobamos que no haya duplicados\n",
    "print(f\"Hay {df_pib_ramas.duplicated().sum()} duplicados\")"
   ]
  },
  {
   "cell_type": "code",
   "execution_count": 214,
   "metadata": {},
   "outputs": [],
   "source": [
    "df_pib_ramas.to_csv(\"datos/DataFrameFinales/df_pib_ramas.csv\")"
   ]
  },
  {
   "cell_type": "code",
   "execution_count": null,
   "metadata": {},
   "outputs": [],
   "source": []
  }
 ],
 "metadata": {
  "kernelspec": {
   "display_name": "Python 3",
   "language": "python",
   "name": "python3"
  },
  "language_info": {
   "codemirror_mode": {
    "name": "ipython",
    "version": 3
   },
   "file_extension": ".py",
   "mimetype": "text/x-python",
   "name": "python",
   "nbconvert_exporter": "python",
   "pygments_lexer": "ipython3",
   "version": "3.11.9"
  }
 },
 "nbformat": 4,
 "nbformat_minor": 2
}
