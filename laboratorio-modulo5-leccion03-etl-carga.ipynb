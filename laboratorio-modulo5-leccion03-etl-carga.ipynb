{
 "cells": [
  {
   "cell_type": "markdown",
   "metadata": {},
   "source": [
    "<div style=\"text-align: center;\">\n",
    "  <img src=\"https://github.com/Hack-io-Data/Imagenes/blob/main/01-LogosHackio/logo_amarillo@4x.png?raw=true\" alt=\"esquema\" />\n",
    "</div>"
   ]
  },
  {
   "cell_type": "markdown",
   "metadata": {},
   "source": [
    "\n",
    "# Laboratorio ETL: Análisis del Sistema Energético en España\n",
    "\n",
    "## Objetivo\n",
    "\n",
    "Durante todos los laboratorios de esta semana realizarás un proceso completo de ETL para analizar la relación entre la demanda, el consumo y la generación eléctrica en diferentes provincias de España a lo largo de un año. Además, complementarán este análisis con datos demográficos y económicos extraídos del Instituto Nacional de Estadística (INE). El **objetivo principal** del análisis es **examinar cómo la demanda, el consumo y la generación eléctrica en diferentes provincias de España a lo largo de los años están influenciados por factores demográficos y económicos, como la población y el PIB provincial**. El análisis busca identificar patrones y correlaciones entre estas variables para comprender mejor las dinámicas energéticas regionales y su relación con el desarrollo socioeconómico en España.\n",
    "\n",
    "Antes de realizar el análisis, vamos a definir las hipótesis con las que vamos a trabajar, las cuales definirán todo tu análisis y planteamiento de los laboratorios: \n",
    "\n",
    "- **Hipótesis 1: La demanda eléctrica está correlacionada con la población de la provincia.** Provincias con mayor población tienden a tener una mayor demanda eléctrica.\n",
    "  \n",
    "- **Hipótesis 2: El crecimiento económico (medido por el PIB) está correlacionado con el consumo eléctrico.** Las provincias con un PIB más alto o en crecimiento experimentan un mayor consumo de energía.\n",
    "\n",
    "- **Hipótesis 3: La proporción de generación renovable está relacionada con factores económicos o geográficos.** Provincias con un mayor desarrollo económico o con condiciones geográficas favorables (como más horas de sol o viento) tienden a generar más energía renovable.\n",
    "\n",
    "\n",
    "## Tareas Laboratorio Carga\n",
    "\n",
    "En este laboratorio, tu objetivo será diseñar la estructura de una base de datos relacional, crear las tablas necesarias y cargar en ellas los datos limpios y preparados que obtuviste en el laboratorio anterior. Trabajarás con datos relacionados con la demanda, generación eléctrica, y variables socioeconómicas, almacenándolos de manera eficiente para facilitar el análisis y las consultas posteriores.\n",
    "\n",
    "\n",
    "- **Diseño de la Base de Datos:** Define una estructura de base de datos relacional que sea adecuada para almacenar los datos de demanda eléctrica, generación eléctrica, población y PIB por provincia.\n",
    "\n",
    "- **Creación de la Base de Datos:** Escribe los scripts SQL necesarios para crear las tablas definidas en la estructura de la base de datos. Asegúrate de definir correctamente los tipos de datos y las restricciones (e.g., `NOT NULL`, `UNIQUE`).\n",
    "\n",
    "- **Carga de Datos en la Base de Datos:** Utiliza Python para cargar los datos limpios y preparados en las tablas de la base de datos. Asegúrate de que los datos se insertan correctamente, manejando posibles errores o inconsistencias en los datos.\n"
   ]
  },
  {
   "cell_type": "code",
   "execution_count": 1,
   "metadata": {},
   "outputs": [],
   "source": [
    "import numpy as np\n",
    "import pandas as pd\n",
    "import sys\n",
    "\n",
    "from src import creacion_insercion_bbdd as ci\n",
    "from src import soporte_queries_creacion as sqc\n",
    "from src import soporte_queries_insercion as sqi\n"
   ]
  },
  {
   "cell_type": "markdown",
   "metadata": {},
   "source": [
    "Creamos la base de datos y nos conectamos"
   ]
  },
  {
   "cell_type": "code",
   "execution_count": 2,
   "metadata": {},
   "outputs": [],
   "source": [
    "nombre_bbdd = \"energia\""
   ]
  },
  {
   "cell_type": "code",
   "execution_count": 3,
   "metadata": {},
   "outputs": [
    {
     "name": "stdout",
     "output_type": "stream",
     "text": [
      "La base de datos ya existe\n"
     ]
    }
   ],
   "source": [
    "ci.crear_db(nombre_bbdd, \"postgres\", \"admin\")"
   ]
  },
  {
   "cell_type": "code",
   "execution_count": 4,
   "metadata": {},
   "outputs": [],
   "source": [
    "conexion = ci.establecer_conn(nombre_bbdd, \"postgres\", \"admin\")"
   ]
  },
  {
   "cell_type": "markdown",
   "metadata": {},
   "source": [
    "Creamos las tablas:"
   ]
  },
  {
   "cell_type": "code",
   "execution_count": 5,
   "metadata": {},
   "outputs": [],
   "source": [
    "conexion.cursor().execute(sqc.query_creation_comunidades)\n",
    "conexion.cursor().execute(sqc.query_creation_demanda)\n",
    "conexion.cursor().execute(sqc.query_creation_energia)\n",
    "conexion.cursor().execute(sqc.query_creation_generacion)\n",
    "conexion.cursor().execute(sqc.query_creation_provincia)\n",
    "conexion.cursor().execute(sqc.query_creation_ramas)\n",
    "conexion.cursor().execute(sqc.query_creation_pib_total)\n",
    "conexion.cursor().execute(sqc.query_creation_pib_ramas)\n",
    "conexion.cursor().execute(sqc.query_creation_edades)\n",
    "conexion.cursor().execute(sqc.query_creation_poblacion)"
   ]
  },
  {
   "cell_type": "markdown",
   "metadata": {},
   "source": [
    "Insertar datos en las tablas:"
   ]
  },
  {
   "cell_type": "code",
   "execution_count": null,
   "metadata": {},
   "outputs": [],
   "source": [
    "df_comunidades = pd.read_csv(\"datos/DataFrameFinales/df_comunidades.csv\", index_col=0)\n",
    "lista_tuplas = [tuple(fila) for fila in df_comunidades.values]\n",
    "ci.dbeaver_commitmany(conexion, sqi.query_carga_comunidades, lista_tuplas)"
   ]
  },
  {
   "cell_type": "code",
   "execution_count": null,
   "metadata": {},
   "outputs": [],
   "source": [
    "df_demanda = pd.read_csv(\"datos/DataFrameFinales/df_demanda.csv\", index_col=0)\n",
    "lista_tuplas = [tuple(fila) for fila in df_demanda.values]\n",
    "ci.dbeaver_commitmany(conexion, sqi.query_carga_demanda, lista_tuplas)"
   ]
  },
  {
   "cell_type": "code",
   "execution_count": null,
   "metadata": {},
   "outputs": [],
   "source": [
    "df_energia = pd.read_csv(\"datos/DataFrameFinales/df_energia.csv\", index_col=0)\n",
    "lista_tuplas = [tuple(fila) for fila in df_energia.values]\n",
    "ci.dbeaver_commitmany(conexion, sqi.query_carga_energia, lista_tuplas)"
   ]
  },
  {
   "cell_type": "code",
   "execution_count": null,
   "metadata": {},
   "outputs": [],
   "source": [
    "df_generacion = pd.read_csv(\"datos/DataFrameFinales/df_generacion.csv\", index_col=0)\n",
    "lista_tuplas = [tuple(fila) for fila in df_generacion.values]\n",
    "ci.dbeaver_commitmany(conexion, sqi.query_carga_generacion, lista_tuplas)"
   ]
  },
  {
   "cell_type": "code",
   "execution_count": null,
   "metadata": {},
   "outputs": [],
   "source": [
    "df_provincia = pd.read_csv(\"datos/DataFrameFinales/df_provincias.csv\", index_col=0)\n",
    "lista_tuplas = [tuple(fila) for fila in df_provincia.values]\n",
    "ci.dbeaver_commitmany(conexion, sqi.query_carga_provincia, lista_tuplas)"
   ]
  },
  {
   "cell_type": "code",
   "execution_count": null,
   "metadata": {},
   "outputs": [],
   "source": [
    "df_edades = pd.read_csv(\"datos/DataFrameFinales/df_edades.csv\", index_col=0)\n",
    "lista_tuplas = [tuple(fila) for fila in df_edades.values]\n",
    "ci.dbeaver_commitmany(conexion, sqi.query_carga_edades, lista_tuplas)"
   ]
  },
  {
   "cell_type": "code",
   "execution_count": null,
   "metadata": {},
   "outputs": [],
   "source": [
    "df_ramas = pd.read_csv(\"datos/DataFrameFinales/df_ramas.csv\", index_col=0)\n",
    "lista_tuplas = [tuple(fila) for fila in df_ramas.values]\n",
    "ci.dbeaver_commitmany(conexion, sqi.query_carga_ramas, lista_tuplas)"
   ]
  },
  {
   "cell_type": "code",
   "execution_count": null,
   "metadata": {},
   "outputs": [],
   "source": [
    "df_pib_total = pd.read_csv(\"datos/DataFrameFinales/df_pib_total.csv\", index_col=0)\n",
    "lista_tuplas = [tuple(fila) for fila in df_pib_total.values]\n",
    "ci.dbeaver_commitmany(conexion, sqi.query_carga_pib_total, lista_tuplas)"
   ]
  },
  {
   "cell_type": "code",
   "execution_count": null,
   "metadata": {},
   "outputs": [],
   "source": [
    "df_pib_ramas = pd.read_csv(\"datos/DataFrameFinales/df_pib_ramas.csv\", index_col=0)\n",
    "lista_tuplas = [tuple(fila) for fila in df_pib_ramas.values]\n",
    "tuplas_float = [tuple(float(valor) for valor in tupla) for tupla in lista_tuplas]\n",
    "\n",
    "ci.dbeaver_commitmany(conexion, sqi.query_carga_pib_ramas, tuplas_float)"
   ]
  },
  {
   "cell_type": "code",
   "execution_count": 15,
   "metadata": {},
   "outputs": [],
   "source": [
    "df_poblacion = pd.read_csv(\"datos/DataFrameFinales/df_poblacion.csv\", index_col=0)\n",
    "lista_tuplas = [tuple(fila) for fila in df_poblacion.values]\n",
    "ci.dbeaver_commitmany(conexion, sqi.query_carga_poblacion, lista_tuplas)"
   ]
  }
 ],
 "metadata": {
  "kernelspec": {
   "display_name": "Python 3",
   "language": "python",
   "name": "python3"
  },
  "language_info": {
   "codemirror_mode": {
    "name": "ipython",
    "version": 3
   },
   "file_extension": ".py",
   "mimetype": "text/x-python",
   "name": "python",
   "nbconvert_exporter": "python",
   "pygments_lexer": "ipython3",
   "version": "3.11.9"
  }
 },
 "nbformat": 4,
 "nbformat_minor": 2
}
